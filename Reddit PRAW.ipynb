{
 "metadata": {
  "name": "",
  "signature": "sha256:b1d0a9fa168ddba8a3ef8a6ba8379829066726361e5f51f2e7c2d9a9e15663bd"
 },
 "nbformat": 3,
 "nbformat_minor": 0,
 "worksheets": [
  {
   "cells": [
    {
     "cell_type": "code",
     "collapsed": false,
     "input": [
      "import praw\n",
      "reddit = praw.Reddit(user_agent = \"reddit_post_scraper_sharpobject\")\n",
      "for post in reddit.get_front_page():\n",
      "    print post"
     ],
     "language": "python",
     "metadata": {},
     "outputs": [
      {
       "output_type": "stream",
       "stream": "stdout",
       "text": [
        "4888 :: The all-seeing eye of...AT&amp;T?\n",
        "4100 :: Reese's pieces snake cake that took my uncle six hours to make for my...\n",
        "3748 :: What is this?\n",
        "3282 :: Taken 4 should be set in a tibetan monastery. Liam Neeson has found h...\n",
        "4317 :: Chrome easter egg game!\n",
        "3376 :: While working at ILM, director Joe Johnson (\"The Rocketeer\", \"Jumanji...\n",
        "4151 :: Huge crowds and some 40 world leaders have gathered in Paris for a un...\n",
        "4678 :: Dog confused by squeaky toy\n",
        "3589 :: Unpaid interns charged \u00a3300 for a job reference by thinktank | Education\n",
        "3194 :: This incredible rift, Raudfeldsgja, Iceland [OC] [4000\u00d72250]\n",
        "2244 :: IAMA man with boobs (who had them removed) AMA!\n",
        "4184 :: Must squeeze and cuddle\n",
        "1996 :: Leaked Al Jazeera emails expose anger over global support for Charlie...\n",
        "4103 :: TIL Evangeline Lilly was promised there would be no love triangle in ...\n",
        "3348 :: People who have upbeat outlooks on life have significantly better car...\n",
        "2541 :: What did one saggy boob say to the other?\n",
        "3160 :: Pinup queen of the 50s - Betty Brosmer [x-posted from /r/VGB]\n",
        "1905 :: A keychain with 50 year calender\n",
        "2021 :: ELI5: What Happens In Your Body The Exact Moment You Fall Asleep?\n",
        "1244 :: PsBattle: Baby llama and alpaca\n",
        "2954 :: What's the best advice you've ever received?\n",
        "922 :: Good news everyone! I didn't screw up my dresser job!\n",
        "1063 :: what are you waiting for? [Image]\n",
        "1441 :: This Week in Science: Inhalable Vaccines, A New Antibiotic, Newfound ...\n",
        "1570 :: LPT: when you say or think \"X, but Y,\" change your perspective by thi...\n"
       ]
      }
     ],
     "prompt_number": 1
    },
    {
     "cell_type": "code",
     "collapsed": false,
     "input": [
      "#unicode(post.title, errors='replace').replace(\",\", \"\")\n",
      "import urllib2\n",
      "import praw\n",
      "reddit = praw.Reddit(user_agent = \"reddit_post_scraper_sharpobject\")\n",
      "incre = 0\n",
      "posts = 0\n",
      "while True:\n",
      "    try:\n",
      "        with open(\"RS_2014-11N.csv\", \"wb\") as out_file:\n",
      "            out_file.write(\"author\\tcreated_utc\\tdomain\\tdowns\\tid\\tnum_comments\\tover_18\\tpermalink\\tscore\\tsubreddit\\ttitle\\tups\\turl\")\n",
      "            for post in reddit.get_subreddit(\"all\").get_new(limit = None): #for all subreddits\n",
      "                if post.created_utc == 1414800000:\n",
      "                    break\n",
      "                try:\n",
      "                    post_string =(\"\\n\"+str(post.author)+\"\\t\"+str(post.created_utc)+\"\\t\"+str(post.domain)+\"\\t\"+str(post.downs)+\"\\t\"+\n",
      "                    str(post.id)+\"\\t\"+str(post.num_comments)+\"\\t\"+str(post.over_18)+\"\\t\"+str(post.permalink)+ \"\\t\"+str(post.score)+\"\\t\"+\n",
      "                    str(post.subreddit)+\"\\t\"+post.title.encode(\"UTF-8\",'ignore')+\"\\t\"+str(post.ups)+\"\\t\"+\n",
      "                    str(post.url))\n",
      "                    out_file.write(post_string)\n",
      "                    posts+=1\n",
      "                except:\n",
      "                    incre +=1\n",
      "                    pass\n",
      "        \n",
      "    except urllib2.HTTPError, e:\n",
      "        if e.code in [429, 500, 502, 503, 504]:\n",
      "            print \"Reddit is down (error %s), sleeping...\" % e.code\n",
      "            time.sleep(60)\n",
      "            pass\n",
      "        else:\n",
      "            raise\n",
      "    except Exception, e:\n",
      "        print \"couldn't Reddit: %s\" % str(e)\n",
      "        print \"Posts: \" + str(posts)\n",
      "        raise\n",
      "print \"Finished! \" + incre + \" records passed.\"   \n",
      "\n",
      "\n",
      "#Have a go at storing this in a SQL database\n",
      "#Edward Tufte The Visual Display"
     ],
     "language": "python",
     "metadata": {},
     "outputs": [
      {
       "output_type": "stream",
       "stream": "stdout",
       "text": [
        "couldn't Reddit: 521 Server Error: Origin Down\n",
        "Posts: 596482\n"
       ]
      },
      {
       "ename": "HTTPError",
       "evalue": "521 Server Error: Origin Down",
       "output_type": "pyerr",
       "traceback": [
        "\u001b[1;31m---------------------------------------------------------------------------\u001b[0m\n\u001b[1;31mHTTPError\u001b[0m                                 Traceback (most recent call last)",
        "\u001b[1;32m<ipython-input-20-300f2eeee368>\u001b[0m in \u001b[0;36m<module>\u001b[1;34m()\u001b[0m\n\u001b[0;32m      9\u001b[0m         \u001b[1;32mwith\u001b[0m \u001b[0mopen\u001b[0m\u001b[1;33m(\u001b[0m\u001b[1;34m\"RS_2014-11N.csv\"\u001b[0m\u001b[1;33m,\u001b[0m \u001b[1;34m\"wb\"\u001b[0m\u001b[1;33m)\u001b[0m \u001b[1;32mas\u001b[0m \u001b[0mout_file\u001b[0m\u001b[1;33m:\u001b[0m\u001b[1;33m\u001b[0m\u001b[0m\n\u001b[0;32m     10\u001b[0m             \u001b[0mout_file\u001b[0m\u001b[1;33m.\u001b[0m\u001b[0mwrite\u001b[0m\u001b[1;33m(\u001b[0m\u001b[1;34m\"author\\tcreated_utc\\tdomain\\tdowns\\tid\\tnum_comments\\tover_18\\tpermalink\\tscore\\tsubreddit\\ttitle\\tups\\turl\"\u001b[0m\u001b[1;33m)\u001b[0m\u001b[1;33m\u001b[0m\u001b[0m\n\u001b[1;32m---> 11\u001b[1;33m             \u001b[1;32mfor\u001b[0m \u001b[0mpost\u001b[0m \u001b[1;32min\u001b[0m \u001b[0mreddit\u001b[0m\u001b[1;33m.\u001b[0m\u001b[0mget_subreddit\u001b[0m\u001b[1;33m(\u001b[0m\u001b[1;34m\"all\"\u001b[0m\u001b[1;33m)\u001b[0m\u001b[1;33m.\u001b[0m\u001b[0mget_new\u001b[0m\u001b[1;33m(\u001b[0m\u001b[0mlimit\u001b[0m \u001b[1;33m=\u001b[0m \u001b[0mNone\u001b[0m\u001b[1;33m)\u001b[0m\u001b[1;33m:\u001b[0m \u001b[1;31m#for all subreddits\u001b[0m\u001b[1;33m\u001b[0m\u001b[0m\n\u001b[0m\u001b[0;32m     12\u001b[0m                 \u001b[1;32mif\u001b[0m \u001b[0mpost\u001b[0m\u001b[1;33m.\u001b[0m\u001b[0mcreated_utc\u001b[0m \u001b[1;33m==\u001b[0m \u001b[1;36m1414800000\u001b[0m\u001b[1;33m:\u001b[0m\u001b[1;33m\u001b[0m\u001b[0m\n\u001b[0;32m     13\u001b[0m                     \u001b[1;32mbreak\u001b[0m\u001b[1;33m\u001b[0m\u001b[0m\n",
        "\u001b[1;32mC:\\Users\\Rob\\Anaconda\\lib\\site-packages\\praw\\__init__.pyc\u001b[0m in \u001b[0;36mget_content\u001b[1;34m(self, url, params, limit, place_holder, root_field, thing_field, after_field, _use_oauth, object_filter)\u001b[0m\n\u001b[0;32m    478\u001b[0m                 \u001b[0mself\u001b[0m\u001b[1;33m.\u001b[0m\u001b[0m_use_oauth\u001b[0m \u001b[1;33m=\u001b[0m \u001b[0m_use_oauth\u001b[0m  \u001b[1;31m# pylint: disable-msg=W0201\u001b[0m\u001b[1;33m\u001b[0m\u001b[0m\n\u001b[0;32m    479\u001b[0m             \u001b[1;32mtry\u001b[0m\u001b[1;33m:\u001b[0m\u001b[1;33m\u001b[0m\u001b[0m\n\u001b[1;32m--> 480\u001b[1;33m                 \u001b[0mpage_data\u001b[0m \u001b[1;33m=\u001b[0m \u001b[0mself\u001b[0m\u001b[1;33m.\u001b[0m\u001b[0mrequest_json\u001b[0m\u001b[1;33m(\u001b[0m\u001b[0murl\u001b[0m\u001b[1;33m,\u001b[0m \u001b[0mparams\u001b[0m\u001b[1;33m=\u001b[0m\u001b[0mparams\u001b[0m\u001b[1;33m)\u001b[0m\u001b[1;33m\u001b[0m\u001b[0m\n\u001b[0m\u001b[0;32m    481\u001b[0m                 \u001b[1;32mif\u001b[0m \u001b[0mobject_filter\u001b[0m\u001b[1;33m:\u001b[0m\u001b[1;33m\u001b[0m\u001b[0m\n\u001b[0;32m    482\u001b[0m                     \u001b[0mpage_data\u001b[0m \u001b[1;33m=\u001b[0m \u001b[0mpage_data\u001b[0m\u001b[1;33m[\u001b[0m\u001b[0mobject_filter\u001b[0m\u001b[1;33m]\u001b[0m\u001b[1;33m\u001b[0m\u001b[0m\n",
        "\u001b[1;32mC:\\Users\\Rob\\Anaconda\\lib\\site-packages\\praw\\decorators.pyc\u001b[0m in \u001b[0;36mwrapped\u001b[1;34m(reddit_session, *args, **kwargs)\u001b[0m\n\u001b[0;32m    159\u001b[0m     \u001b[1;33m@\u001b[0m\u001b[0mwraps\u001b[0m\u001b[1;33m(\u001b[0m\u001b[0mfunction\u001b[0m\u001b[1;33m)\u001b[0m\u001b[1;33m\u001b[0m\u001b[0m\n\u001b[0;32m    160\u001b[0m     \u001b[1;32mdef\u001b[0m \u001b[0mwrapped\u001b[0m\u001b[1;33m(\u001b[0m\u001b[0mreddit_session\u001b[0m\u001b[1;33m,\u001b[0m \u001b[1;33m*\u001b[0m\u001b[0margs\u001b[0m\u001b[1;33m,\u001b[0m \u001b[1;33m**\u001b[0m\u001b[0mkwargs\u001b[0m\u001b[1;33m)\u001b[0m\u001b[1;33m:\u001b[0m\u001b[1;33m\u001b[0m\u001b[0m\n\u001b[1;32m--> 161\u001b[1;33m         \u001b[0mreturn_value\u001b[0m \u001b[1;33m=\u001b[0m \u001b[0mfunction\u001b[0m\u001b[1;33m(\u001b[0m\u001b[0mreddit_session\u001b[0m\u001b[1;33m,\u001b[0m \u001b[1;33m*\u001b[0m\u001b[0margs\u001b[0m\u001b[1;33m,\u001b[0m \u001b[1;33m**\u001b[0m\u001b[0mkwargs\u001b[0m\u001b[1;33m)\u001b[0m\u001b[1;33m\u001b[0m\u001b[0m\n\u001b[0m\u001b[0;32m    162\u001b[0m         \u001b[1;32mif\u001b[0m \u001b[0misinstance\u001b[0m\u001b[1;33m(\u001b[0m\u001b[0mreturn_value\u001b[0m\u001b[1;33m,\u001b[0m \u001b[0mdict\u001b[0m\u001b[1;33m)\u001b[0m\u001b[1;33m:\u001b[0m\u001b[1;33m\u001b[0m\u001b[0m\n\u001b[0;32m    163\u001b[0m             \u001b[1;32mif\u001b[0m \u001b[0mreturn_value\u001b[0m\u001b[1;33m.\u001b[0m\u001b[0mget\u001b[0m\u001b[1;33m(\u001b[0m\u001b[1;34m'error'\u001b[0m\u001b[1;33m)\u001b[0m \u001b[1;33m==\u001b[0m \u001b[1;36m304\u001b[0m\u001b[1;33m:\u001b[0m  \u001b[1;31m# Not modified exception\u001b[0m\u001b[1;33m\u001b[0m\u001b[0m\n",
        "\u001b[1;32mC:\\Users\\Rob\\Anaconda\\lib\\site-packages\\praw\\__init__.pyc\u001b[0m in \u001b[0;36mrequest_json\u001b[1;34m(self, url, params, data, as_objects, retry_on_error)\u001b[0m\n\u001b[0;32m    517\u001b[0m             \u001b[0murl\u001b[0m \u001b[1;33m+=\u001b[0m \u001b[1;34m'.json'\u001b[0m\u001b[1;33m\u001b[0m\u001b[0m\n\u001b[0;32m    518\u001b[0m         \u001b[1;32mif\u001b[0m \u001b[0mretry_on_error\u001b[0m \u001b[1;32mis\u001b[0m \u001b[0mNone\u001b[0m\u001b[1;33m:\u001b[0m\u001b[1;33m\u001b[0m\u001b[0m\n\u001b[1;32m--> 519\u001b[1;33m             \u001b[0mresponse\u001b[0m \u001b[1;33m=\u001b[0m \u001b[0mself\u001b[0m\u001b[1;33m.\u001b[0m\u001b[0m_request\u001b[0m\u001b[1;33m(\u001b[0m\u001b[0murl\u001b[0m\u001b[1;33m,\u001b[0m \u001b[0mparams\u001b[0m\u001b[1;33m,\u001b[0m \u001b[0mdata\u001b[0m\u001b[1;33m)\u001b[0m\u001b[1;33m\u001b[0m\u001b[0m\n\u001b[0m\u001b[0;32m    520\u001b[0m         \u001b[1;32melse\u001b[0m\u001b[1;33m:\u001b[0m\u001b[1;33m\u001b[0m\u001b[0m\n\u001b[0;32m    521\u001b[0m             response = self._request(url, params, data,\n",
        "\u001b[1;32mC:\\Users\\Rob\\Anaconda\\lib\\site-packages\\praw\\__init__.pyc\u001b[0m in \u001b[0;36m_request\u001b[1;34m(self, url, params, data, files, auth, timeout, raw_response, retry_on_error)\u001b[0m\n\u001b[0;32m    381\u001b[0m             \u001b[1;32mtry\u001b[0m\u001b[1;33m:\u001b[0m\u001b[1;33m\u001b[0m\u001b[0m\n\u001b[0;32m    382\u001b[0m                 \u001b[0mresponse\u001b[0m \u001b[1;33m=\u001b[0m \u001b[0mhandle_redirect\u001b[0m\u001b[1;33m(\u001b[0m\u001b[1;33m)\u001b[0m\u001b[1;33m\u001b[0m\u001b[0m\n\u001b[1;32m--> 383\u001b[1;33m                 \u001b[0m_raise_response_exceptions\u001b[0m\u001b[1;33m(\u001b[0m\u001b[0mresponse\u001b[0m\u001b[1;33m)\u001b[0m\u001b[1;33m\u001b[0m\u001b[0m\n\u001b[0m\u001b[0;32m    384\u001b[0m                 \u001b[0mself\u001b[0m\u001b[1;33m.\u001b[0m\u001b[0mhttp\u001b[0m\u001b[1;33m.\u001b[0m\u001b[0mcookies\u001b[0m\u001b[1;33m.\u001b[0m\u001b[0mupdate\u001b[0m\u001b[1;33m(\u001b[0m\u001b[0mresponse\u001b[0m\u001b[1;33m.\u001b[0m\u001b[0mcookies\u001b[0m\u001b[1;33m)\u001b[0m\u001b[1;33m\u001b[0m\u001b[0m\n\u001b[0;32m    385\u001b[0m                 \u001b[1;32mif\u001b[0m \u001b[0mraw_response\u001b[0m\u001b[1;33m:\u001b[0m\u001b[1;33m\u001b[0m\u001b[0m\n",
        "\u001b[1;32mC:\\Users\\Rob\\Anaconda\\lib\\site-packages\\praw\\internal.pyc\u001b[0m in \u001b[0;36m_raise_response_exceptions\u001b[1;34m(response)\u001b[0m\n\u001b[0;32m    170\u001b[0m         \u001b[1;32melse\u001b[0m\u001b[1;33m:\u001b[0m\u001b[1;33m\u001b[0m\u001b[0m\n\u001b[0;32m    171\u001b[0m             \u001b[1;32mraise\u001b[0m \u001b[0mOAuthException\u001b[0m\u001b[1;33m(\u001b[0m\u001b[0mmsg\u001b[0m\u001b[1;33m,\u001b[0m \u001b[0mresponse\u001b[0m\u001b[1;33m.\u001b[0m\u001b[0murl\u001b[0m\u001b[1;33m)\u001b[0m\u001b[1;33m\u001b[0m\u001b[0m\n\u001b[1;32m--> 172\u001b[1;33m     \u001b[0mresponse\u001b[0m\u001b[1;33m.\u001b[0m\u001b[0mraise_for_status\u001b[0m\u001b[1;33m(\u001b[0m\u001b[1;33m)\u001b[0m\u001b[1;33m\u001b[0m\u001b[0m\n\u001b[0m\u001b[0;32m    173\u001b[0m \u001b[1;33m\u001b[0m\u001b[0m\n\u001b[0;32m    174\u001b[0m \u001b[1;33m\u001b[0m\u001b[0m\n",
        "\u001b[1;32mC:\\Users\\Rob\\Anaconda\\lib\\site-packages\\requests\\models.pyc\u001b[0m in \u001b[0;36mraise_for_status\u001b[1;34m(self)\u001b[0m\n\u001b[0;32m    823\u001b[0m \u001b[1;33m\u001b[0m\u001b[0m\n\u001b[0;32m    824\u001b[0m         \u001b[1;32mif\u001b[0m \u001b[0mhttp_error_msg\u001b[0m\u001b[1;33m:\u001b[0m\u001b[1;33m\u001b[0m\u001b[0m\n\u001b[1;32m--> 825\u001b[1;33m             \u001b[1;32mraise\u001b[0m \u001b[0mHTTPError\u001b[0m\u001b[1;33m(\u001b[0m\u001b[0mhttp_error_msg\u001b[0m\u001b[1;33m,\u001b[0m \u001b[0mresponse\u001b[0m\u001b[1;33m=\u001b[0m\u001b[0mself\u001b[0m\u001b[1;33m)\u001b[0m\u001b[1;33m\u001b[0m\u001b[0m\n\u001b[0m\u001b[0;32m    826\u001b[0m \u001b[1;33m\u001b[0m\u001b[0m\n\u001b[0;32m    827\u001b[0m     \u001b[1;32mdef\u001b[0m \u001b[0mclose\u001b[0m\u001b[1;33m(\u001b[0m\u001b[0mself\u001b[0m\u001b[1;33m)\u001b[0m\u001b[1;33m:\u001b[0m\u001b[1;33m\u001b[0m\u001b[0m\n",
        "\u001b[1;31mHTTPError\u001b[0m: 521 Server Error: Origin Down"
       ]
      }
     ],
     "prompt_number": 20
    },
    {
     "cell_type": "code",
     "collapsed": false,
     "input": [
      "\"\\t\".join([\"author\", \"created_utc\", \"domain\", \"downs\", \"id\", \"num_comments\", \"over_18\", \n",
      "                                               \"permalink\", \"score\", \"subreddit\", \"title\", \"ups\", \"url\"])"
     ],
     "language": "python",
     "metadata": {},
     "outputs": [
      {
       "metadata": {},
       "output_type": "pyout",
       "prompt_number": 5,
       "text": [
        "'author\\tcreated_utc\\tdomain\\tdowns\\tid\\tnum_comments\\tover_18\\tpermalink\\tscore\\tsubreddit\\ttitle\\tups\\turl'"
       ]
      }
     ],
     "prompt_number": 5
    },
    {
     "cell_type": "code",
     "collapsed": false,
     "input": [
      "c, g, e, f, a, d, b"
     ],
     "language": "python",
     "metadata": {},
     "outputs": []
    },
    {
     "cell_type": "code",
     "collapsed": false,
     "input": [],
     "language": "python",
     "metadata": {},
     "outputs": []
    },
    {
     "cell_type": "code",
     "collapsed": false,
     "input": [],
     "language": "python",
     "metadata": {},
     "outputs": []
    }
   ],
   "metadata": {}
  }
 ]
}