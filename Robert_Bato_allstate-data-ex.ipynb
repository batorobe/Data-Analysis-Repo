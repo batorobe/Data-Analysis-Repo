{
 "cells": [
  {
   "cell_type": "code",
   "execution_count": 2,
   "metadata": {
    "collapsed": false
   },
   "outputs": [
    {
     "data": {
      "text/html": [
       "<div>\n",
       "<table border=\"1\" class=\"dataframe\">\n",
       "  <thead>\n",
       "    <tr style=\"text-align: right;\">\n",
       "      <th></th>\n",
       "      <th>trip_id</th>\n",
       "      <th>driver</th>\n",
       "      <th>lon</th>\n",
       "      <th>lat</th>\n",
       "      <th>date</th>\n",
       "      <th>speed</th>\n",
       "      <th>direction</th>\n",
       "      <th>odometer</th>\n",
       "      <th>event</th>\n",
       "    </tr>\n",
       "  </thead>\n",
       "  <tbody>\n",
       "    <tr>\n",
       "      <th>0</th>\n",
       "      <td>1</td>\n",
       "      <td>Alan</td>\n",
       "      <td>-122.128910</td>\n",
       "      <td>37.44529</td>\n",
       "      <td>2009-04-05 13:39:54</td>\n",
       "      <td>11.250</td>\n",
       "      <td>185</td>\n",
       "      <td>743984</td>\n",
       "      <td>N</td>\n",
       "    </tr>\n",
       "    <tr>\n",
       "      <th>1</th>\n",
       "      <td>1</td>\n",
       "      <td>Alan</td>\n",
       "      <td>-122.125960</td>\n",
       "      <td>37.44332</td>\n",
       "      <td>2009-04-05 13:40:24</td>\n",
       "      <td>18.750</td>\n",
       "      <td>117</td>\n",
       "      <td>744344</td>\n",
       "      <td>Y</td>\n",
       "    </tr>\n",
       "    <tr>\n",
       "      <th>2</th>\n",
       "      <td>1</td>\n",
       "      <td>Alan</td>\n",
       "      <td>-122.128170</td>\n",
       "      <td>37.44071</td>\n",
       "      <td>2009-04-05 13:40:54</td>\n",
       "      <td>38.125</td>\n",
       "      <td>218</td>\n",
       "      <td>744713</td>\n",
       "      <td>N</td>\n",
       "    </tr>\n",
       "    <tr>\n",
       "      <th>3</th>\n",
       "      <td>1</td>\n",
       "      <td>Alan</td>\n",
       "      <td>-122.131740</td>\n",
       "      <td>37.43711</td>\n",
       "      <td>2009-04-05 13:41:24</td>\n",
       "      <td>36.250</td>\n",
       "      <td>218</td>\n",
       "      <td>745222</td>\n",
       "      <td>N</td>\n",
       "    </tr>\n",
       "    <tr>\n",
       "      <th>4</th>\n",
       "      <td>1</td>\n",
       "      <td>Alan</td>\n",
       "      <td>-122.132805</td>\n",
       "      <td>37.43598</td>\n",
       "      <td>2009-04-05 13:41:54</td>\n",
       "      <td>0.000</td>\n",
       "      <td>218</td>\n",
       "      <td>745380</td>\n",
       "      <td>N</td>\n",
       "    </tr>\n",
       "  </tbody>\n",
       "</table>\n",
       "</div>"
      ],
      "text/plain": [
       "   trip_id driver         lon       lat                 date   speed  \\\n",
       "0        1   Alan -122.128910  37.44529  2009-04-05 13:39:54  11.250   \n",
       "1        1   Alan -122.125960  37.44332  2009-04-05 13:40:24  18.750   \n",
       "2        1   Alan -122.128170  37.44071  2009-04-05 13:40:54  38.125   \n",
       "3        1   Alan -122.131740  37.43711  2009-04-05 13:41:24  36.250   \n",
       "4        1   Alan -122.132805  37.43598  2009-04-05 13:41:54   0.000   \n",
       "\n",
       "   direction  odometer event  \n",
       "0        185    743984     N  \n",
       "1        117    744344     Y  \n",
       "2        218    744713     N  \n",
       "3        218    745222     N  \n",
       "4        218    745380     N  "
      ]
     },
     "execution_count": 2,
     "metadata": {},
     "output_type": "execute_result"
    }
   ],
   "source": [
    "import pandas as pd\n",
    "\n",
    "data = pd.read_csv('C:/Users/Rob/Desktop/Kaggle Projects/data-exercise/data.csv')\n",
    "data.head()"
   ]
  },
  {
   "cell_type": "markdown",
   "metadata": {},
   "source": [
    "\n",
    "# Q1 "
   ]
  },
  {
   "cell_type": "markdown",
   "metadata": {},
   "source": [
    "First thing to do is split the data by driver, putting the respective driver into their own dataframe"
   ]
  },
  {
   "cell_type": "code",
   "execution_count": 3,
   "metadata": {
    "collapsed": false
   },
   "outputs": [],
   "source": [
    "alan = data[data['driver'] == 'Alan']\n",
    "barbara = data[data['driver'] == 'Barbara']"
   ]
  },
  {
   "cell_type": "markdown",
   "metadata": {},
   "source": [
    "Next we can group each dataframe and get the number of times each event occurred in each dataframe"
   ]
  },
  {
   "cell_type": "code",
   "execution_count": 4,
   "metadata": {
    "collapsed": false
   },
   "outputs": [
    {
     "name": "stdout",
     "output_type": "stream",
     "text": [
      "Alan:  event\n",
      "N    183\n",
      "Y     40\n",
      "dtype: int64\n",
      "\n",
      "Barbara:  event\n",
      "N    610\n",
      "Y     15\n",
      "dtype: int64\n"
     ]
    }
   ],
   "source": [
    "print('Alan: ',alan.groupby('event').size())\n",
    "print('')\n",
    "print('Barbara: ',barbara.groupby('event').size())"
   ]
  },
  {
   "cell_type": "markdown",
   "metadata": {},
   "source": [
    "Even though Alan has more 'Y' occurrences, he may be the safer driver due to more driving, hence more opportunities for events.\n",
    "To check whether this is, or isnt the case, we normalize the data.  To normalize the data, I take the count of the occurences, and divide it by the total number of occurrences"
   ]
  },
  {
   "cell_type": "code",
   "execution_count": 5,
   "metadata": {
    "collapsed": false
   },
   "outputs": [
    {
     "name": "stdout",
     "output_type": "stream",
     "text": [
      "Percent of times Alan had an 'event': 0.18\n",
      "Percent of times Barbara had an 'event': 0.02\n"
     ]
    }
   ],
   "source": [
    "alan_n = alan.groupby('event').size()[0]/(alan.groupby('event').size()).sum()\n",
    "\n",
    "barbara_n = barbara.groupby('event').size()[0]/(barbara.groupby('event').size()).sum()\n",
    "\n",
    "print('Percent of times Alan had an \\'event\\': %.2f' % (1 - alan_n))\n",
    "print('Percent of times Barbara had an \\'event\\': %.2f' % (1 - barbara_n))"
   ]
  },
  {
   "cell_type": "markdown",
   "metadata": {},
   "source": [
    "For the more visual learner, this can be graphed out."
   ]
  },
  {
   "cell_type": "code",
   "execution_count": 33,
   "metadata": {
    "collapsed": false
   },
   "outputs": [
    {
     "data": {
      "image/png": "[encoded data removed]",
      "text/plain": [
       "<matplotlib.figure.Figure at 0x20831aeae10>"
      ]
     },
     "metadata": {},
     "output_type": "display_data"
    }
   ],
   "source": [
    "import numpy as np\n",
    "\n",
    "name_out = np.empty((0,2), int)\n",
    "\n",
    "name_out = np.vstack((name_out, np.array(alan.groupby('event').size().values.T)))\n",
    "name_out = np.vstack((name_out, np.array(barbara.groupby('event').size().values.T)))\n",
    "\n",
    "df = pd.DataFrame(name_out, columns = ['No', 'Yes'])\n",
    "df['Named'] = ['Alan', 'Barbara']\n",
    "\n",
    "# Create a figure with a single subplot\n",
    "f, ax = plt.subplots(1, figsize=(20,5))\n",
    "\n",
    "# Set bar width at 1\n",
    "bar_width = 1\n",
    "\n",
    "# positions of the left bar-boundaries\n",
    "bar_l = [i for i in range(len(df['No']))] \n",
    "\n",
    "# positions of the x-axis ticks (center of the bars as bar labels)\n",
    "tick_pos = [i+(bar_width/2) for i in bar_l] \n",
    "\n",
    "# Create the total score for each participant\n",
    "totals = [i+j for i,j in zip(df['No'], df['Yes'])]\n",
    "\n",
    "# Create the percentage of the total score the pre_score value for each participant was\n",
    "ad_rel = [i / j * 100 for  i,j in zip(df['No'], totals)]\n",
    "\n",
    "# Create the percentage of the total score the mid_score value for each participant was\n",
    "di_rel = [i / j * 100 for  i,j in zip(df['Yes'], totals)]\n",
    "\n",
    "\n",
    "# Create a bar chart in position bar_1\n",
    "ax.bar(bar_l, \n",
    "       # using pre_rel data\n",
    "       ad_rel, \n",
    "       # labeled \n",
    "       label='No', \n",
    "       # with alpha\n",
    "       alpha=0.9, \n",
    "       # with color\n",
    "       color='#C0BCB6',\n",
    "       # with bar width\n",
    "       width=bar_width,\n",
    "       # with border color\n",
    "       edgecolor='white'\n",
    "       )\n",
    "\n",
    "# Create a bar chart in position bar_1\n",
    "ax.bar(bar_l, \n",
    "       # using mid_rel data\n",
    "       di_rel, \n",
    "       # with pre_rel\n",
    "       bottom=ad_rel, \n",
    "       # labeled \n",
    "       label='Yes', \n",
    "       # with alpha\n",
    "       alpha=0.9, \n",
    "       # with color\n",
    "       color='#97C30A', \n",
    "       # with bar width\n",
    "       width=bar_width,\n",
    "       # with border color\n",
    "       edgecolor='white'\n",
    "       )\n",
    "\n",
    "\n",
    "# Set the ticks to be first names\n",
    "plt.xticks(tick_pos, df['Named'])\n",
    "ax.set_ylabel(\"Percentage\")\n",
    "ax.set_xlabel(\"\")\n",
    "\n",
    "# Let the borders of the graphic\n",
    "plt.xlim([min(tick_pos)-bar_width, max(tick_pos)+bar_width])\n",
    "plt.ylim(-10, 110)\n",
    "\n",
    "# rotate axis labels\n",
    "plt.setp(plt.gca().get_xticklabels(), rotation=45, horizontalalignment='right')\n",
    "\n",
    "box = ax.get_position()\n",
    "ax.set_position([box.x0, box.y0, box.width * 0.8, box.height])\n",
    "\n",
    "# Put a legend to the right of the current axis\n",
    "ax.legend(['No', 'Yes'],loc='center left', bbox_to_anchor=(0.5, 1.05),\n",
    "          ncol=3, fancybox=True, shadow=True)\n",
    "plt.title('Alan vs. Barbara Event Percentages',loc = 'left')\n",
    "#plt.savefig('/home/ubuntu/dogs_v_cats_outcomes.jpg', bbox_inches = 'tight')\n",
    "plt.show()\n",
    "\n",
    "##"
   ]
  },
  {
   "cell_type": "markdown",
   "metadata": {},
   "source": [
    "**Question 1 Answer**:\n",
    "\n",
    "Barbara had on average 0.02 events every 30 seconds, as opposed to Alan who had an event 0.18 times every 30 seconds.  Since we assume events as roughly correlated with driver safety we can conclude that Barbara is the safer driver since she had less events on average every 30 seconds.\n",
    "\n",
    "Other thoughts, I don't believe any of the other columns provide any insight into 'safety' of a driver, speed maybe, but without knowing the legal speed limit of the driver at that time not much can be done."
   ]
  },
  {
   "cell_type": "markdown",
   "metadata": {},
   "source": [
    "\n",
    "# Question 2"
   ]
  },
  {
   "cell_type": "markdown",
   "metadata": {},
   "source": [
    "First thing to do is split the data into trip 7/trip 13\n"
   ]
  },
  {
   "cell_type": "code",
   "execution_count": 6,
   "metadata": {
    "collapsed": false,
    "scrolled": true
   },
   "outputs": [],
   "source": [
    "trip_7 = data[data['trip_id'] == 7]\n",
    "trip_13 = data[data['trip_id'] == 13]"
   ]
  },
  {
   "cell_type": "markdown",
   "metadata": {},
   "source": [
    "Next, take a quick look at the dataframes, luckily they're small enough to be printed right in the window."
   ]
  },
  {
   "cell_type": "code",
   "execution_count": 7,
   "metadata": {
    "collapsed": false
   },
   "outputs": [
    {
     "name": "stdout",
     "output_type": "stream",
     "text": [
      "158    40.000\n",
      "159    38.750\n",
      "160    53.750\n",
      "161    59.375\n",
      "162    64.375\n",
      "163    65.625\n",
      "164    28.750\n",
      "165     0.000\n",
      "166     0.000\n",
      "167     0.000\n",
      "168     8.125\n",
      "Name: speed, dtype: float64\n",
      "248    18.750\n",
      "249     9.375\n",
      "250     8.125\n",
      "251    19.375\n",
      "252    13.125\n",
      "253    18.750\n",
      "254    15.000\n",
      "255    10.625\n",
      "256     0.000\n",
      "257     0.000\n",
      "258     0.000\n",
      "259     6.250\n",
      "260    16.250\n",
      "261     0.000\n",
      "262     0.000\n",
      "263     0.000\n",
      "264     5.625\n",
      "265    14.375\n",
      "266    20.000\n",
      "267     0.000\n",
      "268     0.000\n",
      "269     6.250\n",
      "270     0.000\n",
      "271     0.000\n",
      "272     0.000\n",
      "273    16.875\n",
      "274     0.000\n",
      "275    18.125\n",
      "276     0.000\n",
      "277     0.000\n",
      "278    18.750\n",
      "279    29.375\n",
      "280    26.250\n",
      "281    18.125\n",
      "282    15.625\n",
      "283    25.000\n",
      "284     8.125\n",
      "285    19.375\n",
      "286    15.000\n",
      "287    31.250\n",
      "288    30.625\n",
      "289    16.875\n",
      "290    16.250\n",
      "Name: speed, dtype: float64\n"
     ]
    }
   ],
   "source": [
    "print(trip_7['speed'])\n",
    "print(trip_13['speed'])"
   ]
  },
  {
   "cell_type": "markdown",
   "metadata": {},
   "source": [
    "Again, for the more visual learners, this is what the trips looked like every 30 seconds"
   ]
  },
  {
   "cell_type": "code",
   "execution_count": 29,
   "metadata": {
    "collapsed": false
   },
   "outputs": [
    {
     "data": {
      "image/png": "[encoded data removed]",
      "text/plain": [
       "<matplotlib.figure.Figure at 0x20831bad4e0>"
      ]
     },
     "metadata": {},
     "output_type": "display_data"
    }
   ],
   "source": [
    "import seaborn as sns\n",
    "import matplotlib.pyplot as plt\n",
    "%matplotlib inline\n",
    "\n",
    "f, (ax1, ax2) = plt.subplots(1, 2, figsize = (20,6))\n",
    "ax1.plot(trip_7.speed.values)\n",
    "ax1.set_title('Alan\\'s Speed (mph)')\n",
    "ax2.plot(trip_13.speed.values)\n",
    "ax2.set_title('Barabara\\'s Speed (mph)')\n",
    "plt.show()"
   ]
  },
  {
   "cell_type": "markdown",
   "metadata": {},
   "source": [
    "Now to perform a quick analysis of the average speed of each trip"
   ]
  },
  {
   "cell_type": "code",
   "execution_count": 23,
   "metadata": {
    "collapsed": false
   },
   "outputs": [
    {
     "name": "stdout",
     "output_type": "stream",
     "text": [
      "Trip 7 Average Speed: 32.6 mph\n",
      "Trip 13 Average Speed: 11.3 mph\n"
     ]
    }
   ],
   "source": [
    "import numpy as np\n",
    "\n",
    "print(\"Trip 7 Average Speed: %.1f mph\" % np.mean(trip_7['speed']))\n",
    "print(\"Trip 13 Average Speed: %.1f mph\" % np.mean(trip_13['speed']))"
   ]
  },
  {
   "cell_type": "markdown",
   "metadata": {},
   "source": [
    "**Question 2 Answer**:\n",
    "\n",
    "It seems that Alan drove on the highway. This can easily be seen by just observing the data sets, Alan was cruising above 40 mph for a little over three minutes, peaking at 65 mph, then going to 0, perhaps exiting the freeway.  Barbara on the other hand peaked at around 30 mph, a speed that would get you pulled over if being driven on the highway. She also had multiple periods of 0 mph for 30 - 90 seconds at a time, probably indicating she was at a stop light.\n",
    "\n",
    "Mathematically, Alan averaged a higher speed than Barbara, 32.6 versus 11.3 mph for each trip respectively also suggesting Alan was on the highway for his trip."
   ]
  },
  {
   "cell_type": "code",
   "execution_count": null,
   "metadata": {
    "collapsed": true
   },
   "outputs": [],
   "source": []
  }
 ],
 "metadata": {
  "kernelspec": {
   "display_name": "Python 3",
   "language": "python",
   "name": "python3"
  },
  "language_info": {
   "codemirror_mode": {
    "name": "ipython",
    "version": 3
   },
   "file_extension": ".py",
   "mimetype": "text/x-python",
   "name": "python",
   "nbconvert_exporter": "python",
   "pygments_lexer": "ipython3",
   "version": "3.5.1"
  }
 },
 "nbformat": 4,
 "nbformat_minor": 0
}
