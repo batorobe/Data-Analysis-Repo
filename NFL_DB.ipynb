
# coding: utf-8

#### NFL DB Passing Data By College

# In[2]:

#player/college/team/type/distance

from glob import glob
from pandas import read_csv
import pandas as pb
from datetime import datetime
from collections import defaultdict

nfl_passing_data = pb.read_csv("nfl_passing_qb_stats.csv",
                          skiprows=[0], names=["full_name","college","team","passing_yds","rushing_yds"])


# In[3]:

nfl_passing_data.head()


# In[2]:

#

get_ipython().magic(u'matplotlib inline')
nfl_passing_data.passing_yds.plot(kind='hist', alpha=0.5)


# In[7]:

#abs(ci value - mean) for yerr
#box for each college avg passing /avg rushing

from collections import defaultdict

import scikits.bootstrap as bootstrap
import numpy as np
#yerr=meanStd, horizontal bar plot passing by college
#group.plot(type=boxplot)
team_ci_dict = defaultdict(int)

for team,group in nfl_passing_data.groupby("team"):
    team_ci = bootstrap.ci(nfl_passing_data.passing_yds,statfunction=np.mean) 
    team_ci_dict[team]+= team_ci
print team_ci_dict
with open("team_ci_passing_data.csv", "wb") as out_file:
    out_file.write("Team,BootStrap_Keys")
    for team in sorted(team_ci_dict.keys()):
        out_file.write("\n" + str(team) + "," + str(team_ci_dict[team]))


## Box for Calculating Mean of College Data

# In[50]:

#abs(ci value - mean) for yerr
#box for each college avg passing /avg rushing

from collections import defaultdict

import scikits.bootstrap as bootstrap
import numpy as np
#yerr=menStd, horizontal bar plot passing by college
#group.plot(type=boxplot)
college_mean_dict = defaultdict(int)

#print nfl_passing_data.groupby("college").passing_yds.mean()
with open("team_pass_mean_data.csv", "wb") as out_file:
    out_file.write("Team,Mean")
    for college in sorted(nfl_passing_data.groupby("team").passing_yds.mean().keys()):
        out_file.write("\n" + str(college) + "," + str(nfl_passing_data.groupby("team").passing_yds.mean()[college]))


#### Box for graphing College Boxplots Passing

# In[86]:

get_ipython().magic(u'matplotlib inline')

from glob import glob
from pandas import read_csv
import pandas as pb
from datetime import datetime
from collections import defaultdict
from pandas import DataFrame
import matplotlib.pyplot as plt
import numpy as np
plt.style.use('fivethirtyeight')
college_ci_yerr = pb.read_csv("college_ci_passing_data.csv",
                          skiprows=[0], names=["College","BS_Min","BS_Max"],usecols=[0,1,2])
college_ci_mean = pb.read_csv("college_ci_passing_data.csv",
                          skiprows=[0], names=["College","Mean"],usecols=[0,3])

yerr =  abs(((college_ci_yerr.BS_Max+college_ci_yerr.BS_Min)/2)-college_ci_mean.Mean)
#college_ci_mean = college_ci_mean[::-1]
college_ci_mean.Mean.plot(kind='bar',lw=3,figsize=(20,8),legend=False,yerr=yerr)
plt.xticks(np.arange(len(college_ci_mean)),college_ci_mean.College.values)

plt.figure()


#### College Boxplots Rushing

# In[87]:

get_ipython().magic(u'matplotlib inline')

from glob import glob
from pandas import read_csv
import pandas as pb
from datetime import datetime
from collections import defaultdict
from pandas import DataFrame
import matplotlib.pyplot as plt
import numpy as np
plt.style.use('fivethirtyeight')
college_ci_yerr = pb.read_csv("college_ci_rushing_data.csv",
                          skiprows=[0], names=["College","BS_Min","BS_Max"],usecols=[0,1,2])
college_ci_mean = pb.read_csv("college_ci_rushing_data.csv",
                          skiprows=[0], names=["College","Mean"],usecols=[0,3])

yerr =  abs(((college_ci_yerr.BS_Max+college_ci_yerr.BS_Min)/2)-college_ci_mean.Mean)
#college_ci_mean = college_ci_mean[::-1]
college_ci_mean.Mean.plot(kind='bar',lw=3,figsize=(20,8),legend=False,yerr=yerr)
plt.xticks(np.arange(len(college_ci_mean)),college_ci_mean.College.values)

plt.figure()


#### Team Boxplots Passing 

# In[89]:

get_ipython().magic(u'matplotlib inline')

from glob import glob
from pandas import read_csv
import pandas as pb
from datetime import datetime
from collections import defaultdict
from pandas import DataFrame
import matplotlib.pyplot as plt
import numpy as np
plt.style.use('fivethirtyeight')
college_ci_yerr = pb.read_csv("team_ci_passing_data.csv",
                          skiprows=[0], names=["College","BS_Min","BS_Max"],usecols=[0,1,2])
college_ci_mean = pb.read_csv("team_ci_passing_data.csv",
                          skiprows=[0], names=["College","Mean"],usecols=[0,3])

yerr =  abs(((college_ci_yerr.BS_Max+college_ci_yerr.BS_Min)/2)-college_ci_mean.Mean)
#college_ci_mean = college_ci_mean[::-1]
college_ci_mean.Mean.plot(kind='bar',lw=3,figsize=(20,8),legend=False,yerr=yerr)
plt.xticks(np.arange(len(college_ci_mean)),college_ci_mean.College.values)

plt.figure()


#### Team Boxplots Rushing

# In[90]:

get_ipython().magic(u'matplotlib inline')

from glob import glob
from pandas import read_csv
import pandas as pb
from datetime import datetime
from collections import defaultdict
from pandas import DataFrame
import matplotlib.pyplot as plt
import numpy as np
plt.style.use('fivethirtyeight')
college_ci_yerr = pb.read_csv("team_ci_rushing_data.csv",
                          skiprows=[0], names=["College","BS_Min","BS_Max"],usecols=[0,1,2])
college_ci_mean = pb.read_csv("team_ci_rushing_data.csv",
                          skiprows=[0], names=["College","Mean"],usecols=[0,3])

yerr =  abs(((college_ci_yerr.BS_Max+college_ci_yerr.BS_Min)/2)-college_ci_mean.Mean)
#college_ci_mean = college_ci_mean[::-1]
college_ci_mean.Mean.plot(kind='bar',lw=3,figsize=(20,8),legend=False,yerr=yerr)
plt.xticks(np.arange(len(college_ci_mean)),college_ci_mean.College.values)

plt.figure()


# In[ ]:



